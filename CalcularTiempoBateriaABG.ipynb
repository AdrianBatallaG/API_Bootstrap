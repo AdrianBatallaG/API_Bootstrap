{
  "nbformat": 4,
  "nbformat_minor": 0,
  "metadata": {
    "colab": {
      "provenance": [],
      "authorship_tag": "ABX9TyPXKI7VXUxNiNPfDtF+OjEl",
      "include_colab_link": true
    },
    "kernelspec": {
      "name": "python3",
      "display_name": "Python 3"
    },
    "language_info": {
      "name": "python"
    }
  },
  "cells": [
    {
      "cell_type": "markdown",
      "metadata": {
        "id": "view-in-github",
        "colab_type": "text"
      },
      "source": [
        "<a href=\"https://colab.research.google.com/github/AdrianBatallaG/API_Bootstrap/blob/main/CalcularTiempoBateriaABG.ipynb\" target=\"_parent\"><img src=\"https://colab.research.google.com/assets/colab-badge.svg\" alt=\"Open In Colab\"/></a>"
      ]
    },
    {
      "cell_type": "code",
      "execution_count": 1,
      "metadata": {
        "colab": {
          "base_uri": "https://localhost:8080/"
        },
        "id": "cpv_Ebs6cEkg",
        "outputId": "818bb737-1bca-430d-cbe0-5e012d6aafb0"
      },
      "outputs": [
        {
          "output_type": "stream",
          "name": "stdout",
          "text": [
            "Ejemplo para el Caso 1:\n",
            "Capacidad: 2.5Ah\n",
            "Tiempo dormido: 60min\n",
            "Tiempo activo: 70ms\n",
            "Consumo dormido: 100µA\n",
            "Consumo activo: 100mA\n",
            "Ingrese los datos del nodo WSN:\n",
            "Capacidad de la batería (Ah): 5\n",
            "Tiempo dormido (minutos): 30\n",
            "Tiempo activo (ms): 110\n",
            "Consumo dormido (µA): 240\n",
            "Consumo activo (mA): 95\n",
            "\n",
            "Paso a paso del cálculo:\n",
            "1. Consumo base por hora (1h * Id): 0.0002400000 A\n",
            "2. Número de períodos por hora (60/tiempo_dormido): 2.00\n",
            "3. Tiempo activo en horas: 0.0000305556\n",
            "4. Diferencia de consumo (Ia - Id): 0.0947600000 A\n",
            "5. Consumo adicional por activaciones (P * ta * (Ia - Id)): 0.0000057909 A\n",
            "6. Corriente promedio por hora (Ih): 0.0002457909 A\n",
            "\n",
            "Resultados de duración de la batería:\n",
            "- Horas: 20342.50\n",
            "- Días: 847.60\n",
            "- Meses: 28.25\n",
            "- Años: 2.32\n"
          ]
        }
      ],
      "source": [
        "def calcular_duracion_bateria_wsn():\n",
        "    \"\"\"\n",
        "    Calcula la duración de la batería usando la fórmula:\n",
        "    Ih = (1h * Id + P * ta * (Ia - Id)) / 1h\n",
        "    DB = CB / Ih\n",
        "    donde:\n",
        "    Id = corriente en modo dormido (A)\n",
        "    Ia = corriente en modo activo (A)\n",
        "    ta = tiempo activo (h)\n",
        "    P = número de períodos en 1 hora\n",
        "    CB = capacidad de la batería (Ah)\n",
        "    \"\"\"\n",
        "    print(\"Ingrese los datos del nodo WSN:\")\n",
        "\n",
        "    # Entrada de datos\n",
        "    capacidad = float(input(\"Capacidad de la batería (Ah): \"))\n",
        "    tiempo_dormido = float(input(\"Tiempo dormido (minutos): \"))\n",
        "    tiempo_activo = float(input(\"Tiempo activo (ms): \"))\n",
        "    consumo_dormido = float(input(\"Consumo dormido (µA): \"))\n",
        "    consumo_activo = float(input(\"Consumo activo (mA): \"))\n",
        "\n",
        "    # Conversiones a unidades base\n",
        "    tiempo_activo_h = tiempo_activo / (1000 * 3600)  # ms a horas\n",
        "    consumo_dormido_a = consumo_dormido / 1_000_000  # µA a A\n",
        "    consumo_activo_a = consumo_activo / 1000  # mA a A\n",
        "\n",
        "    # Cálculo del número de períodos por hora\n",
        "    periodo_total_min = tiempo_dormido  # el período es igual al tiempo dormido\n",
        "    periodos_por_hora = 60 / periodo_total_min\n",
        "\n",
        "    # Cálculo paso a paso\n",
        "    paso1 = 1 * consumo_dormido_a  # 1h * Id\n",
        "    paso2 = periodos_por_hora * tiempo_activo_h  # P * ta\n",
        "    paso3 = consumo_activo_a - consumo_dormido_a  # (Ia - Id)\n",
        "    paso4 = paso2 * paso3  # P * ta * (Ia - Id)\n",
        "\n",
        "    # Cálculo de Ih (corriente promedio por hora)\n",
        "    Ih = paso1 + paso4\n",
        "\n",
        "    # Cálculo de la duración de la batería\n",
        "    duracion_horas = capacidad / Ih\n",
        "\n",
        "    # Conversión a diferentes unidades de tiempo\n",
        "    duracion_dias = duracion_horas / 24\n",
        "    duracion_meses = duracion_dias / 30\n",
        "    duracion_años = duracion_dias / 365\n",
        "\n",
        "    # Mostrar resultados y pasos intermedios\n",
        "    print(\"\\nPaso a paso del cálculo:\")\n",
        "    print(f\"1. Consumo base por hora (1h * Id): {paso1:.10f} A\")\n",
        "    print(f\"2. Número de períodos por hora (60/tiempo_dormido): {periodos_por_hora:.2f}\")\n",
        "    print(f\"3. Tiempo activo en horas: {tiempo_activo_h:.10f}\")\n",
        "    print(f\"4. Diferencia de consumo (Ia - Id): {paso3:.10f} A\")\n",
        "    print(f\"5. Consumo adicional por activaciones (P * ta * (Ia - Id)): {paso4:.10f} A\")\n",
        "    print(f\"6. Corriente promedio por hora (Ih): {Ih:.10f} A\")\n",
        "\n",
        "    print(\"\\nResultados de duración de la batería:\")\n",
        "    print(f\"- Horas: {duracion_horas:.2f}\")\n",
        "    print(f\"- Días: {duracion_dias:.2f}\")\n",
        "    print(f\"- Meses: {duracion_meses:.2f}\")\n",
        "    print(f\"- Años: {duracion_años:.2f}\")\n",
        "\n",
        "    return {\n",
        "        'Ih': Ih,\n",
        "        'duracion_horas': duracion_horas,\n",
        "        'duracion_dias': duracion_dias,\n",
        "        'duracion_meses': duracion_meses,\n",
        "        'duracion_años': duracion_años,\n",
        "        'pasos': {\n",
        "            'paso1_consumo_base': paso1,\n",
        "            'paso2_periodos_hora': periodos_por_hora,\n",
        "            'paso3_tiempo_activo_h': tiempo_activo_h,\n",
        "            'paso4_diff_consumo': paso3,\n",
        "            'paso5_consumo_adicional': paso4\n",
        "        }\n",
        "    }\n",
        "\n",
        "# Ejemplo de uso para el caso 1\n",
        "if __name__ == \"__main__\":\n",
        "    print(\"Ejemplo para el Caso 1:\")\n",
        "    print(\"Capacidad: 2.5Ah\")\n",
        "    print(\"Tiempo dormido: 60min\")\n",
        "    print(\"Tiempo activo: 70ms\")\n",
        "    print(\"Consumo dormido: 100µA\")\n",
        "    print(\"Consumo activo: 100mA\")\n",
        "    resultados = calcular_duracion_bateria_wsn()"
      ]
    }
  ]
}